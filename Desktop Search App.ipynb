{
 "cells": [
  {
   "cell_type": "code",
   "execution_count": 1,
   "id": "c2a3c4c1",
   "metadata": {},
   "outputs": [
    {
     "name": "stdout",
     "output_type": "stream",
     "text": [
      "Requirement already satisfied: pdfminer.six in c:\\programdata\\anaconda3\\lib\\site-packages (20201018)\n",
      "Requirement already satisfied: sortedcontainers in c:\\programdata\\anaconda3\\lib\\site-packages (from pdfminer.six) (2.3.0)\n",
      "Requirement already satisfied: cryptography in c:\\programdata\\anaconda3\\lib\\site-packages (from pdfminer.six) (3.4.7)\n",
      "Requirement already satisfied: chardet in c:\\programdata\\anaconda3\\lib\\site-packages (from pdfminer.six) (4.0.0)\n",
      "Requirement already satisfied: cffi>=1.12 in c:\\programdata\\anaconda3\\lib\\site-packages (from cryptography->pdfminer.six) (1.14.5)\n",
      "Requirement already satisfied: pycparser in c:\\programdata\\anaconda3\\lib\\site-packages (from cffi>=1.12->cryptography->pdfminer.six) (2.20)\n",
      "Note: you may need to restart the kernel to use updated packages.\n"
     ]
    }
   ],
   "source": [
    "pip install pdfminer.six"
   ]
  },
  {
   "cell_type": "code",
   "execution_count": 2,
   "id": "09e6954c",
   "metadata": {},
   "outputs": [],
   "source": [
    "from tkinter import *\n",
    "import os"
   ]
  },
  {
   "cell_type": "code",
   "execution_count": 3,
   "id": "c1a1138d",
   "metadata": {},
   "outputs": [],
   "source": [
    "#function to display list of files which matches search command\n",
    "def showlist_files():\n",
    "    \"\"\"funtion to show the list of\n",
    "    files\"\"\"\n",
    "    inp = txtfld1.get()\n",
    "    def find_files(filename, search_path):\n",
    "        result = []\n",
    "        for root, dir, files in os.walk(search_path):\n",
    "            if filename in files:\n",
    "                result.append(os.path.join(root, filename))\n",
    "            else:\n",
    "                for i in files:\n",
    "                    if filename==i.split(\".\")[0]:\n",
    "                        result.append(os.path.join(root, i))\n",
    "        return result\n",
    "    lis=[\"D:\\\\\",\"E:\\\\\"]\n",
    "    for i in lis:\n",
    "        s=find_files(inp,i)\n",
    "        print(f\"files found in {i} are follwoing:  \")\n",
    "        for i in s:\n",
    "            print(i)\n",
    "        for i in s:\n",
    "            op1.insert(END, i)\n",
    "            op1.insert(END, \"\\n\")"
   ]
  },
  {
   "cell_type": "code",
   "execution_count": 4,
   "id": "4c671b46",
   "metadata": {},
   "outputs": [],
   "source": [
    "#function to display list of files and merge files of same extension and save in a new file of name xyz1.txt \n",
    "def showlist_ext():\n",
    "    \"\"\"function to display and merge files\n",
    "        of same extensions\"\"\"\n",
    "    inp = txtfld2.get()\n",
    "    inp1=inp[1:]\n",
    "    import os\n",
    "    def find_files1(filename, search_path):\n",
    "        result = []\n",
    "        for root, dir, files in os.walk(search_path):\n",
    "            for i in files:\n",
    "                    try:\n",
    "                        a=i.split(\".\")[1]\n",
    "                        if filename==a:\n",
    "                            result.append(os.path.join(root, i))\n",
    "                    except Exception as e:\n",
    "                        pass\n",
    "        return result\n",
    "    lis=[\"D:\\\\\",\"E:\\\\\"]\n",
    "    for i in lis:\n",
    "        s=find_files1(inp1,i)\n",
    "        print(f\"files found in {i} are follwoing:  \")\n",
    "        for j in s:\n",
    "            print(j)\n",
    "        for k in s:\n",
    "            op2.insert(END, k)\n",
    "            op2.insert(END, \"\\n\")\n",
    "        f1=open(f\"{i}xyz1.txt\",\"w\")\n",
    "        for l in s:\n",
    "            if inp1==\"pdf\":\n",
    "                from pdfminer.high_level import extract_text\n",
    "                text = extract_text(l)\n",
    "                text1=str(text.encode(\"utf-8\"))\n",
    "                f1.write(text1)\n",
    "                f1.write(f\"-------------this is the end of file----------------------------\")\n",
    "                f1.write(\"\\n\")\n",
    "            else:\n",
    "                f=open(l ,\"r\", errors=\"ignore\")\n",
    "                a=f.read()\n",
    "                f1.write(a)\n",
    "                f1.write(f\"-------------this is the end of file----------------------------\")\n",
    "                f1.write(\"\\n\")\n",
    "                f.close()\n",
    "        f1.close()\n",
    "        f1=open(f\"{i}xyz1.txt\",\"r\")\n",
    "        a=f1.read()\n",
    "        print(a)\n",
    "        print(f\"merged file for {i} drive created at location: {i}xyz1.txt\")\n",
    "        op3.insert(END, f\"merged file for {i} drive created at location: {i}xyz1.txt\")\n",
    "        op3.insert(END, \"\\n\")\n",
    "        f1.close()"
   ]
  },
  {
   "cell_type": "code",
   "execution_count": 5,
   "id": "846fe2fc",
   "metadata": {},
   "outputs": [],
   "source": [
    "#defining buttons,lables,text box and entry box in UI Window           \n",
    "window=Tk()\n",
    "\n",
    "btn1=Button(window, text=\"SEARCH\", fg='blue', command=showlist_files)\n",
    "btn1.place(x=350, y=100)\n",
    "\n",
    "btn2=Button(window, text=\"MERGE\", fg='blue', command=showlist_ext)\n",
    "btn2.place(x=350, y=320)\n",
    "\n",
    "op1= Text(window,height = 5, width = 100, bd = 7)\n",
    "op1.place(x=10, y=140)\n",
    "\n",
    "op2= Text(window,height = 5, width = 100, bd = 7)\n",
    "op2.place(x=10, y=370)\n",
    "\n",
    "op3= Text(window,height = 5, width = 70, bd = 7)\n",
    "op3.place(x=10, y=500)\n",
    "\n",
    "lbl3=Label(window, text=\"Merged file location for different drives..\", fg='red', font=(\"Helvetica\", 10))\n",
    "lbl3.place(x=10, y=470)\n",
    "\n",
    "lbl1=Label(window, text=\"Search for files with or without extension ex. xyz or xyz.txt\", fg='red', font=(\"Helvetica\", 10))\n",
    "lbl1.place(x=60, y=50)\n",
    "\n",
    "lbl2=Label(window, text=\"Search files for extension ex. .txt , .pdf \", fg='red', font=(\"Helvetica\", 10))\n",
    "lbl2.place(x=60, y=280)\n",
    "\n",
    "txtfld1=Entry(window, text=\"enter the file name with or without extension\", bd=7)\n",
    "txtfld1.place(x=100, y=100)\n",
    "\n",
    "txtfld2=Entry(window, text=\"enter the extension with .\", bd=7)\n",
    "txtfld2.place(x=100, y=320)"
   ]
  },
  {
   "cell_type": "code",
   "execution_count": 6,
   "id": "fa0764f3",
   "metadata": {},
   "outputs": [],
   "source": [
    "window.title('DESKTOP SEARCH APP')\n",
    "window.geometry(\"1000x600+10+10\")\n",
    "window.mainloop()"
   ]
  }
 ],
 "metadata": {
  "kernelspec": {
   "display_name": "Python 3",
   "language": "python",
   "name": "python3"
  },
  "language_info": {
   "codemirror_mode": {
    "name": "ipython",
    "version": 3
   },
   "file_extension": ".py",
   "mimetype": "text/x-python",
   "name": "python",
   "nbconvert_exporter": "python",
   "pygments_lexer": "ipython3",
   "version": "3.8.8"
  }
 },
 "nbformat": 4,
 "nbformat_minor": 5
}
